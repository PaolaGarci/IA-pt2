{
 "cells": [
  {
   "cell_type": "code",
   "execution_count": null,
   "metadata": {},
   "outputs": [],
   "source": [
    "from pydrive.auth import GoogleAuth\n",
    "import os\n",
    "\n",
    "gauth = GoogleAuth()\n",
    "gauth.LocalWebserverAuth()"
   ]
  },
  {
   "cell_type": "code",
   "execution_count": null,
   "metadata": {},
   "outputs": [],
   "source": [
    "from pydrive.drive import GoogleDrive\n",
    "drive = GoogleDrive(gauth)"
   ]
  },
  {
   "cell_type": "code",
   "execution_count": null,
   "metadata": {},
   "outputs": [],
   "source": [
    "with open('Folder_id.txt', 'r') as file:\n",
    "    Imagenes_id = file.read().rstrip()"
   ]
  },
  {
   "cell_type": "code",
   "execution_count": null,
   "metadata": {},
   "outputs": [],
   "source": [
    "file_list=drive.ListFile({'q': f\"'{Imagenes_id}' in parents and trashed=false\"}).GetList()"
   ]
  },
  {
   "cell_type": "code",
   "execution_count": null,
   "metadata": {},
   "outputs": [],
   "source": [
    "from IPython.display import HTML, display\n",
    "import time\n",
    "\n",
    "def progress(value, max=100):\n",
    "    return HTML(\"\"\"\n",
    "        <progress\n",
    "            value='{value}'\n",
    "            max='{max}',\n",
    "            style='width: 100%'\n",
    "        >\n",
    "            {value}\n",
    "        </progress>\n",
    "    \"\"\".format(value=value, max=max))"
   ]
  },
  {
   "cell_type": "code",
   "execution_count": null,
   "metadata": {},
   "outputs": [],
   "source": [
    "dict_ids = dict(zip([f['title'] for f in file_list], [f['id'] for f in file_list]))\n",
    "dict_ids"
   ]
  },
  {
   "cell_type": "code",
   "execution_count": null,
   "metadata": {},
   "outputs": [],
   "source": [
    "dir_list = os.listdir('Small Img')\n",
    "for img in dir_list:\n",
    "    try:\n",
    "        del dict_ids[img]\n",
    "    except:\n",
    "        pass"
   ]
  },
  {
   "cell_type": "code",
   "execution_count": null,
   "metadata": {},
   "outputs": [],
   "source": [
    "#random.shuffle(file_list)\n",
    "\n",
    "out = display(progress(0, len(file_list)), display_id=True)\n",
    "print(len(dict_ids))\n",
    "i=len(dir_list)\n",
    "\n",
    "for file in dict_ids.keys():\n",
    "    #print('title: %s, id: %s' % (file['title'], file['id']))\n",
    "    time.sleep(0.02)\n",
    "    out.update(progress(i, len(file_list)))\n",
    "    name=file\n",
    "    if name in dir_list:\n",
    "        print(f'{name} already exists')   \n",
    "    else: \n",
    "        img = drive.CreateFile({'id': dict_ids[file]})\n",
    "        img.GetContentFile(f'Small Img/{name}') # downloads 'My Awesome File.txt' as 'my-awesome-file.txt'\n",
    "    \n",
    "    i+=1"
   ]
  }
 ],
 "metadata": {
  "kernelspec": {
   "display_name": "Python 3.9.12 ('base')",
   "language": "python",
   "name": "python3"
  },
  "language_info": {
   "name": "python",
   "version": "3.9.12"
  },
  "orig_nbformat": 4,
  "vscode": {
   "interpreter": {
    "hash": "6deb76df87e8777b7a33384abaa632da18b42f49de3d5c09d0e564e61a196379"
   }
  }
 },
 "nbformat": 4,
 "nbformat_minor": 2
}
