{
  "cells": [
    {
      "cell_type": "code",
      "execution_count": 55,
      "metadata": {
        "id": "KVnYfG2vIMdV"
      },
      "outputs": [],
      "source": [
        "#PACKAGE IMPORTS\n",
        "# Import all required packages.\n",
        "# tensorflow , panda, numpy, matplotlib.pyplot\n",
        "import pandas as pd\n",
        "import numpy as np\n",
        "import matplotlib.pyplot as plt\n",
        "import tensorflow as tf\n",
        "# If you would like to make further imports from Tensorflow, add them here\n",
        "#form keras import Sequential, Dense, Flatten, Conv2D, MaxPooling2D\n",
        "from tensorflow import keras\n",
        "from keras import Sequential\n",
        "from keras.layers import Dense,Flatten, Conv2D, MaxPooling2D,GlobalAveragePooling2D\n",
        "from keras import optimizers\n",
        "import os\n",
        "from keras.preprocessing.image import ImageDataGenerator\n",
        "from random import sample,seed\n",
        "from keras.callbacks import EarlyStopping\n",
        "import seaborn as sns\n",
        "from sklearn.model_selection import train_test_split\n",
        "\n",
        "physical_devices = tf.config.list_physical_devices(\"GPU\")\n",
        "tf.config.experimental.set_memory_growth(physical_devices[0], True)"
      ]
    },
    {
      "cell_type": "code",
      "execution_count": 56,
      "metadata": {
        "id": "BaQZdsktJ7-6"
      },
      "outputs": [],
      "source": [
        "from PIL import ImageFile\n",
        "ImageFile.LOAD_TRUNCATED_IMAGES = True"
      ]
    },
    {
      "cell_type": "code",
      "execution_count": 57,
      "metadata": {
        "colab": {
          "base_uri": "https://localhost:8080/",
          "height": 423
        },
        "id": "_QiCbXYhGtg7",
        "outputId": "36f4ea27-2c7a-4651-c2c2-9e2846c6ced7"
      },
      "outputs": [
        {
          "data": {
            "text/html": [
              "<div>\n",
              "<style scoped>\n",
              "    .dataframe tbody tr th:only-of-type {\n",
              "        vertical-align: middle;\n",
              "    }\n",
              "\n",
              "    .dataframe tbody tr th {\n",
              "        vertical-align: top;\n",
              "    }\n",
              "\n",
              "    .dataframe thead th {\n",
              "        text-align: right;\n",
              "    }\n",
              "</style>\n",
              "<table border=\"1\" class=\"dataframe\">\n",
              "  <thead>\n",
              "    <tr style=\"text-align: right;\">\n",
              "      <th></th>\n",
              "      <th>Filename</th>\n",
              "      <th>Stage</th>\n",
              "    </tr>\n",
              "  </thead>\n",
              "  <tbody>\n",
              "    <tr>\n",
              "      <th>0</th>\n",
              "      <td>Small Img/StateLineWeir_20120609_Farrell_001.jpg</td>\n",
              "      <td>2.99</td>\n",
              "    </tr>\n",
              "    <tr>\n",
              "      <th>1</th>\n",
              "      <td>Small Img/StateLineWeir_20120609_Farrell_002.jpg</td>\n",
              "      <td>2.99</td>\n",
              "    </tr>\n",
              "    <tr>\n",
              "      <th>2</th>\n",
              "      <td>Small Img/StateLineWeir_20120609_Farrell_003.jpg</td>\n",
              "      <td>2.96</td>\n",
              "    </tr>\n",
              "    <tr>\n",
              "      <th>3</th>\n",
              "      <td>Small Img/StateLineWeir_20120609_Farrell_004.jpg</td>\n",
              "      <td>2.94</td>\n",
              "    </tr>\n",
              "    <tr>\n",
              "      <th>4</th>\n",
              "      <td>Small Img/StateLineWeir_20120609_Farrell_005.jpg</td>\n",
              "      <td>2.94</td>\n",
              "    </tr>\n",
              "    <tr>\n",
              "      <th>...</th>\n",
              "      <td>...</td>\n",
              "      <td>...</td>\n",
              "    </tr>\n",
              "    <tr>\n",
              "      <th>42054</th>\n",
              "      <td>Small Img/StateLineWeir_20191011_Farrell_409.jpg</td>\n",
              "      <td>2.54</td>\n",
              "    </tr>\n",
              "    <tr>\n",
              "      <th>42055</th>\n",
              "      <td>Small Img/StateLineWeir_20191011_Farrell_410.jpg</td>\n",
              "      <td>2.54</td>\n",
              "    </tr>\n",
              "    <tr>\n",
              "      <th>42056</th>\n",
              "      <td>Small Img/StateLineWeir_20191011_Farrell_411.jpg</td>\n",
              "      <td>2.54</td>\n",
              "    </tr>\n",
              "    <tr>\n",
              "      <th>42057</th>\n",
              "      <td>Small Img/StateLineWeir_20191011_Farrell_412.jpg</td>\n",
              "      <td>2.54</td>\n",
              "    </tr>\n",
              "    <tr>\n",
              "      <th>42058</th>\n",
              "      <td>Small Img/StateLineWeir_20191011_Farrell_413.jpg</td>\n",
              "      <td>2.54</td>\n",
              "    </tr>\n",
              "  </tbody>\n",
              "</table>\n",
              "<p>42059 rows × 2 columns</p>\n",
              "</div>"
            ],
            "text/plain": [
              "                                               Filename  Stage\n",
              "0      Small Img/StateLineWeir_20120609_Farrell_001.jpg   2.99\n",
              "1      Small Img/StateLineWeir_20120609_Farrell_002.jpg   2.99\n",
              "2      Small Img/StateLineWeir_20120609_Farrell_003.jpg   2.96\n",
              "3      Small Img/StateLineWeir_20120609_Farrell_004.jpg   2.94\n",
              "4      Small Img/StateLineWeir_20120609_Farrell_005.jpg   2.94\n",
              "...                                                 ...    ...\n",
              "42054  Small Img/StateLineWeir_20191011_Farrell_409.jpg   2.54\n",
              "42055  Small Img/StateLineWeir_20191011_Farrell_410.jpg   2.54\n",
              "42056  Small Img/StateLineWeir_20191011_Farrell_411.jpg   2.54\n",
              "42057  Small Img/StateLineWeir_20191011_Farrell_412.jpg   2.54\n",
              "42058  Small Img/StateLineWeir_20191011_Farrell_413.jpg   2.54\n",
              "\n",
              "[42059 rows x 2 columns]"
            ]
          },
          "execution_count": 57,
          "metadata": {},
          "output_type": "execute_result"
        }
      ],
      "source": [
        "#Import the same test images\n",
        "path='Small Img'\n",
        "df=pd.read_csv('2012_2019_PlatteRiverWeir_features_merged_all.csv')\n",
        "df=df.iloc[:,2:7].drop(columns=[' Agency',' SiteNumber',' TimeZone'])\n",
        "df.rename(columns={' Filename':'Filename', ' Stage':'Stage'},inplace=True)\n",
        "df['Filename'] = df['Filename'].apply(lambda x: f\"{path}/{x}\")\n",
        "df"
      ]
    },
    {
      "cell_type": "code",
      "execution_count": 58,
      "metadata": {
        "id": "p7y8Z_CF9tmC"
      },
      "outputs": [],
      "source": [
        "train, test = train_test_split(df, test_size=0.2)"
      ]
    },
    {
      "cell_type": "code",
      "execution_count": 59,
      "metadata": {
        "id": "tXgzZytV9vwh"
      },
      "outputs": [],
      "source": [
        "IMAGE_WIDTH=150\n",
        "IMAGE_HEIGHT=150\n",
        "IMAGE_SIZE=(IMAGE_WIDTH, IMAGE_HEIGHT)\n",
        "IMAGE_CHANNELS=3\n",
        "batch_size=64\n",
        "epochs=30"
      ]
    },
    {
      "cell_type": "code",
      "execution_count": 60,
      "metadata": {
        "colab": {
          "base_uri": "https://localhost:8080/"
        },
        "id": "7nIUUbpw97dK",
        "outputId": "95176e2c-ce13-4e01-809f-9a9d0f47afe1"
      },
      "outputs": [
        {
          "name": "stdout",
          "output_type": "stream",
          "text": [
            "Found 26918 validated image filenames.\n"
          ]
        }
      ],
      "source": [
        "train_datagen = ImageDataGenerator(\n",
        "    rescale=1./255,\n",
        "    validation_split=0.2\n",
        ")\n",
        "\n",
        "train_generator = train_datagen.flow_from_dataframe(\n",
        "    train, \n",
        "    x_col='Filename',\n",
        "    y_col='Stage',\n",
        "    class_mode='raw',\n",
        "    target_size=IMAGE_SIZE,\n",
        "    batch_size=batch_size,\n",
        "    subset='training'\n",
        ")"
      ]
    },
    {
      "cell_type": "code",
      "execution_count": 61,
      "metadata": {
        "colab": {
          "base_uri": "https://localhost:8080/"
        },
        "id": "MjAar6_q9_aJ",
        "outputId": "0bd22191-ada9-4957-a074-4692327b41d5"
      },
      "outputs": [
        {
          "name": "stdout",
          "output_type": "stream",
          "text": [
            "Found 8412 validated image filenames.\n",
            "Found 6729 validated image filenames.\n"
          ]
        }
      ],
      "source": [
        "test_datagen = ImageDataGenerator(rescale=1./255)\n",
        "\n",
        "test_generator = test_datagen.flow_from_dataframe(\n",
        "    test,\n",
        "    x_col='Filename',\n",
        "    y_col='Stage',\n",
        "    target_size=IMAGE_SIZE,\n",
        "    class_mode='raw',\n",
        "    batch_size=batch_size\n",
        ")\n",
        "\n",
        "validation_generator = train_datagen.flow_from_dataframe(\n",
        "    train,\n",
        "    x_col='Filename',\n",
        "    y_col='Stage',\n",
        "    target_size=IMAGE_SIZE,\n",
        "    class_mode='raw',\n",
        "    batch_size=batch_size,\n",
        "    subset='validation'\n",
        ")"
      ]
    },
    {
      "cell_type": "code",
      "execution_count": 62,
      "metadata": {
        "id": "h6T6R62g-KkE"
      },
      "outputs": [],
      "source": [
        "earlystop = EarlyStopping(patience=4)"
      ]
    },
    {
      "cell_type": "code",
      "execution_count": 63,
      "metadata": {
        "id": "IBIYNmgXG6S7"
      },
      "outputs": [],
      "source": [
        "from keras.activations import activation_layers\n",
        "model = Sequential()\n",
        "model.add(Conv2D(32, (3, 3), padding='same', input_shape=(150,150,3)))\n",
        "model.add(Conv2D(32, (3, 3)))\n",
        "model.add(Conv2D(32, (3, 3)))\n",
        "model.add(MaxPooling2D(pool_size=(2, 2)))\n",
        "model.add(Flatten())\n",
        "model.add(Dense(1,activation='linear'))\n"
      ]
    },
    {
      "cell_type": "code",
      "execution_count": 64,
      "metadata": {
        "id": "vrtUVtLjK2ir"
      },
      "outputs": [],
      "source": [
        "from sklearn.metrics import r2_score\n",
        "compiled=model.compile(loss=\"mse\", optimizer='adam',metrics=[r2_score],run_eagerly=True) "
      ]
    },
    {
      "cell_type": "code",
      "execution_count": 65,
      "metadata": {
        "colab": {
          "base_uri": "https://localhost:8080/"
        },
        "id": "mq8Ji3hwK8tJ",
        "outputId": "12a9af87-ef12-4697-d92e-bc567613cf6a"
      },
      "outputs": [
        {
          "name": "stdout",
          "output_type": "stream",
          "text": [
            "Epoch 1/30\n",
            "421/421 [==============================] - 134s 313ms/step - loss: 0.9561 - r2_score: -0.7755 - val_loss: 0.0477 - val_r2_score: 0.9234\n",
            "Epoch 2/30\n",
            "421/421 [==============================] - 126s 299ms/step - loss: 0.0403 - r2_score: 0.9345 - val_loss: 0.0475 - val_r2_score: 0.9204\n",
            "Epoch 3/30\n",
            "421/421 [==============================] - 128s 302ms/step - loss: 0.0271 - r2_score: 0.9560 - val_loss: 0.0244 - val_r2_score: 0.9601\n",
            "Epoch 4/30\n",
            "421/421 [==============================] - 127s 302ms/step - loss: 0.0223 - r2_score: 0.9631 - val_loss: 0.0275 - val_r2_score: 0.9546\n",
            "Epoch 5/30\n",
            "421/421 [==============================] - 126s 300ms/step - loss: 0.0196 - r2_score: 0.9675 - val_loss: 0.0270 - val_r2_score: 0.9553\n",
            "Epoch 6/30\n",
            "421/421 [==============================] - 125s 296ms/step - loss: 0.0174 - r2_score: 0.9711 - val_loss: 0.0173 - val_r2_score: 0.9721\n",
            "Epoch 7/30\n",
            "421/421 [==============================] - 125s 296ms/step - loss: 0.0153 - r2_score: 0.9748 - val_loss: 0.0198 - val_r2_score: 0.9673\n",
            "Epoch 8/30\n",
            "421/421 [==============================] - 125s 297ms/step - loss: 0.0141 - r2_score: 0.9773 - val_loss: 0.0178 - val_r2_score: 0.9707\n",
            "Epoch 9/30\n",
            "421/421 [==============================] - 124s 295ms/step - loss: 0.0142 - r2_score: 0.9767 - val_loss: 0.0152 - val_r2_score: 0.9747\n",
            "Epoch 10/30\n",
            "421/421 [==============================] - 125s 296ms/step - loss: 0.0125 - r2_score: 0.9794 - val_loss: 0.0166 - val_r2_score: 0.9721\n",
            "Epoch 11/30\n",
            "421/421 [==============================] - 124s 295ms/step - loss: 0.0126 - r2_score: 0.9795 - val_loss: 0.0187 - val_r2_score: 0.9690\n",
            "Epoch 12/30\n",
            "421/421 [==============================] - 125s 296ms/step - loss: 0.0115 - r2_score: 0.9810 - val_loss: 0.0170 - val_r2_score: 0.9715\n",
            "Epoch 13/30\n",
            "421/421 [==============================] - 125s 296ms/step - loss: 0.0126 - r2_score: 0.9793 - val_loss: 0.0154 - val_r2_score: 0.9748\n"
          ]
        }
      ],
      "source": [
        "history=model.fit(train_generator,validation_data=validation_generator, epochs=epochs,callbacks=[earlystop])"
      ]
    },
    {
      "cell_type": "code",
      "execution_count": 66,
      "metadata": {
        "id": "9cbGiiT6K92p"
      },
      "outputs": [],
      "source": [
        "result=history.history\n",
        "historydf=pd.DataFrame(result)"
      ]
    },
    {
      "cell_type": "code",
      "execution_count": 67,
      "metadata": {
        "id": "UqRnmGGPhD5i"
      },
      "outputs": [
        {
          "data": {
            "text/html": [
              "<div>\n",
              "<style scoped>\n",
              "    .dataframe tbody tr th:only-of-type {\n",
              "        vertical-align: middle;\n",
              "    }\n",
              "\n",
              "    .dataframe tbody tr th {\n",
              "        vertical-align: top;\n",
              "    }\n",
              "\n",
              "    .dataframe thead th {\n",
              "        text-align: right;\n",
              "    }\n",
              "</style>\n",
              "<table border=\"1\" class=\"dataframe\">\n",
              "  <thead>\n",
              "    <tr style=\"text-align: right;\">\n",
              "      <th></th>\n",
              "      <th>loss</th>\n",
              "      <th>r2_score</th>\n",
              "      <th>val_loss</th>\n",
              "      <th>val_r2_score</th>\n",
              "    </tr>\n",
              "  </thead>\n",
              "  <tbody>\n",
              "    <tr>\n",
              "      <th>0</th>\n",
              "      <td>0.956138</td>\n",
              "      <td>-0.775500</td>\n",
              "      <td>0.047710</td>\n",
              "      <td>0.923434</td>\n",
              "    </tr>\n",
              "    <tr>\n",
              "      <th>1</th>\n",
              "      <td>0.040260</td>\n",
              "      <td>0.934451</td>\n",
              "      <td>0.047501</td>\n",
              "      <td>0.920364</td>\n",
              "    </tr>\n",
              "    <tr>\n",
              "      <th>2</th>\n",
              "      <td>0.027101</td>\n",
              "      <td>0.955958</td>\n",
              "      <td>0.024398</td>\n",
              "      <td>0.960104</td>\n",
              "    </tr>\n",
              "    <tr>\n",
              "      <th>3</th>\n",
              "      <td>0.022319</td>\n",
              "      <td>0.963140</td>\n",
              "      <td>0.027491</td>\n",
              "      <td>0.954600</td>\n",
              "    </tr>\n",
              "    <tr>\n",
              "      <th>4</th>\n",
              "      <td>0.019646</td>\n",
              "      <td>0.967534</td>\n",
              "      <td>0.026968</td>\n",
              "      <td>0.955296</td>\n",
              "    </tr>\n",
              "    <tr>\n",
              "      <th>5</th>\n",
              "      <td>0.017424</td>\n",
              "      <td>0.971127</td>\n",
              "      <td>0.017257</td>\n",
              "      <td>0.972123</td>\n",
              "    </tr>\n",
              "    <tr>\n",
              "      <th>6</th>\n",
              "      <td>0.015257</td>\n",
              "      <td>0.974828</td>\n",
              "      <td>0.019753</td>\n",
              "      <td>0.967332</td>\n",
              "    </tr>\n",
              "    <tr>\n",
              "      <th>7</th>\n",
              "      <td>0.014095</td>\n",
              "      <td>0.977254</td>\n",
              "      <td>0.017755</td>\n",
              "      <td>0.970658</td>\n",
              "    </tr>\n",
              "    <tr>\n",
              "      <th>8</th>\n",
              "      <td>0.014195</td>\n",
              "      <td>0.976723</td>\n",
              "      <td>0.015219</td>\n",
              "      <td>0.974733</td>\n",
              "    </tr>\n",
              "    <tr>\n",
              "      <th>9</th>\n",
              "      <td>0.012525</td>\n",
              "      <td>0.979446</td>\n",
              "      <td>0.016615</td>\n",
              "      <td>0.972123</td>\n",
              "    </tr>\n",
              "    <tr>\n",
              "      <th>10</th>\n",
              "      <td>0.012570</td>\n",
              "      <td>0.979466</td>\n",
              "      <td>0.018660</td>\n",
              "      <td>0.969042</td>\n",
              "    </tr>\n",
              "    <tr>\n",
              "      <th>11</th>\n",
              "      <td>0.011508</td>\n",
              "      <td>0.981014</td>\n",
              "      <td>0.016975</td>\n",
              "      <td>0.971532</td>\n",
              "    </tr>\n",
              "    <tr>\n",
              "      <th>12</th>\n",
              "      <td>0.012563</td>\n",
              "      <td>0.979342</td>\n",
              "      <td>0.015383</td>\n",
              "      <td>0.974792</td>\n",
              "    </tr>\n",
              "  </tbody>\n",
              "</table>\n",
              "</div>"
            ],
            "text/plain": [
              "        loss  r2_score  val_loss  val_r2_score\n",
              "0   0.956138 -0.775500  0.047710      0.923434\n",
              "1   0.040260  0.934451  0.047501      0.920364\n",
              "2   0.027101  0.955958  0.024398      0.960104\n",
              "3   0.022319  0.963140  0.027491      0.954600\n",
              "4   0.019646  0.967534  0.026968      0.955296\n",
              "5   0.017424  0.971127  0.017257      0.972123\n",
              "6   0.015257  0.974828  0.019753      0.967332\n",
              "7   0.014095  0.977254  0.017755      0.970658\n",
              "8   0.014195  0.976723  0.015219      0.974733\n",
              "9   0.012525  0.979446  0.016615      0.972123\n",
              "10  0.012570  0.979466  0.018660      0.969042\n",
              "11  0.011508  0.981014  0.016975      0.971532\n",
              "12  0.012563  0.979342  0.015383      0.974792"
            ]
          },
          "execution_count": 67,
          "metadata": {},
          "output_type": "execute_result"
        }
      ],
      "source": [
        "historydf"
      ]
    },
    {
      "cell_type": "code",
      "execution_count": 68,
      "metadata": {
        "id": "0I06Iv2iLBG5"
      },
      "outputs": [
        {
          "name": "stdout",
          "output_type": "stream",
          "text": [
            "132/132 [==============================] - 31s 231ms/step - loss: 0.0153 - r2_score: 0.9743\n"
          ]
        }
      ],
      "source": [
        "evaluation =model.evaluate(test_generator, batch_size=batch_size)"
      ]
    },
    {
      "cell_type": "code",
      "execution_count": 69,
      "metadata": {
        "id": "cGqT5urMEwnu"
      },
      "outputs": [
        {
          "data": {
            "image/png": "[encoded data removed]",
            "text/plain": [
              "<Figure size 1600x500 with 2 Axes>"
            ]
          },
          "metadata": {},
          "output_type": "display_data"
        }
      ],
      "source": [
        "fig, axes = plt.subplots(1, 2, figsize=(16, 5))\n",
        "sns.lineplot(ax=axes[0],data=historydf, x=historydf.index, y=\"loss\")\n",
        "sns.lineplot(ax=axes[0],data=historydf, x=historydf.index, y=\"val_loss\")\n",
        "sns.lineplot(ax=axes[1],data=historydf, x=historydf.index, y=\"r2_score\")\n",
        "sns.lineplot(ax=axes[1],data=historydf, x=historydf.index, y=\"val_r2_score\")\n",
        "\n",
        "plt.show()"
      ]
    },
    {
      "cell_type": "code",
      "execution_count": null,
      "metadata": {
        "id": "yg4wP7KLSGk5"
      },
      "outputs": [],
      "source": []
    }
  ],
  "metadata": {
    "accelerator": "GPU",
    "colab": {
      "provenance": []
    },
    "gpuClass": "standard",
    "kernelspec": {
      "display_name": "Python 3.9.0 ('tf_2.11')",
      "language": "python",
      "name": "python3"
    },
    "language_info": {
      "codemirror_mode": {
        "name": "ipython",
        "version": 3
      },
      "file_extension": ".py",
      "mimetype": "text/x-python",
      "name": "python",
      "nbconvert_exporter": "python",
      "pygments_lexer": "ipython3",
      "version": "3.9.0"
    },
    "vscode": {
      "interpreter": {
        "hash": "97118719e5255b4963fe010f8661a243525092fbb7e0a72f569bc618ccc8df4b"
      }
    }
  },
  "nbformat": 4,
  "nbformat_minor": 0
}
