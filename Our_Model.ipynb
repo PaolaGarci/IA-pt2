{
  "cells": [
    {
      "cell_type": "markdown",
      "metadata": {},
      "source": [
        "# CNN model from scratch for predicting the stage based on images"
      ]
    },
    {
      "cell_type": "code",
      "execution_count": 1,
      "metadata": {
        "id": "KVnYfG2vIMdV"
      },
      "outputs": [],
      "source": [
        "#PACKAGE IMPORTS\n",
        "import pandas as pd\n",
        "import numpy as np\n",
        "import matplotlib.pyplot as plt\n",
        "import tensorflow as tf\n",
        "from tensorflow import keras\n",
        "from keras import Sequential\n",
        "from keras.layers import Dense,Flatten, Conv2D, MaxPooling2D,GlobalAveragePooling2D\n",
        "from keras import optimizers\n",
        "import os\n",
        "from keras.preprocessing.image import ImageDataGenerator\n",
        "from random import sample,seed\n",
        "from keras.callbacks import EarlyStopping\n",
        "import seaborn as sns\n",
        "from sklearn.model_selection import train_test_split\n",
        "\n",
        "physical_devices = tf.config.list_physical_devices(\"GPU\")\n",
        "tf.config.experimental.set_memory_growth(physical_devices[0], True)"
      ]
    },
    {
      "cell_type": "code",
      "execution_count": 2,
      "metadata": {
        "id": "BaQZdsktJ7-6"
      },
      "outputs": [],
      "source": [
        "from PIL import ImageFile\n",
        "ImageFile.LOAD_TRUNCATED_IMAGES = True"
      ]
    },
    {
      "cell_type": "code",
      "execution_count": 3,
      "metadata": {
        "colab": {
          "base_uri": "https://localhost:8080/",
          "height": 423
        },
        "id": "_QiCbXYhGtg7",
        "outputId": "36f4ea27-2c7a-4651-c2c2-9e2846c6ced7"
      },
      "outputs": [
        {
          "data": {
            "text/html": [
              "<div>\n",
              "<style scoped>\n",
              "    .dataframe tbody tr th:only-of-type {\n",
              "        vertical-align: middle;\n",
              "    }\n",
              "\n",
              "    .dataframe tbody tr th {\n",
              "        vertical-align: top;\n",
              "    }\n",
              "\n",
              "    .dataframe thead th {\n",
              "        text-align: right;\n",
              "    }\n",
              "</style>\n",
              "<table border=\"1\" class=\"dataframe\">\n",
              "  <thead>\n",
              "    <tr style=\"text-align: right;\">\n",
              "      <th></th>\n",
              "      <th>Filename</th>\n",
              "      <th>Stage</th>\n",
              "    </tr>\n",
              "  </thead>\n",
              "  <tbody>\n",
              "    <tr>\n",
              "      <th>0</th>\n",
              "      <td>Small Img/StateLineWeir_20120609_Farrell_001.jpg</td>\n",
              "      <td>2.99</td>\n",
              "    </tr>\n",
              "    <tr>\n",
              "      <th>1</th>\n",
              "      <td>Small Img/StateLineWeir_20120609_Farrell_002.jpg</td>\n",
              "      <td>2.99</td>\n",
              "    </tr>\n",
              "    <tr>\n",
              "      <th>2</th>\n",
              "      <td>Small Img/StateLineWeir_20120609_Farrell_003.jpg</td>\n",
              "      <td>2.96</td>\n",
              "    </tr>\n",
              "    <tr>\n",
              "      <th>3</th>\n",
              "      <td>Small Img/StateLineWeir_20120609_Farrell_004.jpg</td>\n",
              "      <td>2.94</td>\n",
              "    </tr>\n",
              "    <tr>\n",
              "      <th>4</th>\n",
              "      <td>Small Img/StateLineWeir_20120609_Farrell_005.jpg</td>\n",
              "      <td>2.94</td>\n",
              "    </tr>\n",
              "    <tr>\n",
              "      <th>...</th>\n",
              "      <td>...</td>\n",
              "      <td>...</td>\n",
              "    </tr>\n",
              "    <tr>\n",
              "      <th>42054</th>\n",
              "      <td>Small Img/StateLineWeir_20191011_Farrell_409.jpg</td>\n",
              "      <td>2.54</td>\n",
              "    </tr>\n",
              "    <tr>\n",
              "      <th>42055</th>\n",
              "      <td>Small Img/StateLineWeir_20191011_Farrell_410.jpg</td>\n",
              "      <td>2.54</td>\n",
              "    </tr>\n",
              "    <tr>\n",
              "      <th>42056</th>\n",
              "      <td>Small Img/StateLineWeir_20191011_Farrell_411.jpg</td>\n",
              "      <td>2.54</td>\n",
              "    </tr>\n",
              "    <tr>\n",
              "      <th>42057</th>\n",
              "      <td>Small Img/StateLineWeir_20191011_Farrell_412.jpg</td>\n",
              "      <td>2.54</td>\n",
              "    </tr>\n",
              "    <tr>\n",
              "      <th>42058</th>\n",
              "      <td>Small Img/StateLineWeir_20191011_Farrell_413.jpg</td>\n",
              "      <td>2.54</td>\n",
              "    </tr>\n",
              "  </tbody>\n",
              "</table>\n",
              "<p>42059 rows × 2 columns</p>\n",
              "</div>"
            ],
            "text/plain": [
              "                                               Filename  Stage\n",
              "0      Small Img/StateLineWeir_20120609_Farrell_001.jpg   2.99\n",
              "1      Small Img/StateLineWeir_20120609_Farrell_002.jpg   2.99\n",
              "2      Small Img/StateLineWeir_20120609_Farrell_003.jpg   2.96\n",
              "3      Small Img/StateLineWeir_20120609_Farrell_004.jpg   2.94\n",
              "4      Small Img/StateLineWeir_20120609_Farrell_005.jpg   2.94\n",
              "...                                                 ...    ...\n",
              "42054  Small Img/StateLineWeir_20191011_Farrell_409.jpg   2.54\n",
              "42055  Small Img/StateLineWeir_20191011_Farrell_410.jpg   2.54\n",
              "42056  Small Img/StateLineWeir_20191011_Farrell_411.jpg   2.54\n",
              "42057  Small Img/StateLineWeir_20191011_Farrell_412.jpg   2.54\n",
              "42058  Small Img/StateLineWeir_20191011_Farrell_413.jpg   2.54\n",
              "\n",
              "[42059 rows x 2 columns]"
            ]
          },
          "execution_count": 3,
          "metadata": {},
          "output_type": "execute_result"
        }
      ],
      "source": [
        "#Import Dataframe\n",
        "path='Small Img'\n",
        "df=pd.read_csv('2012_2019_PlatteRiverWeir_features_merged_all.csv')\n",
        "df=df.iloc[:,2:7].drop(columns=[' Agency',' SiteNumber',' TimeZone'])\n",
        "df.rename(columns={' Filename':'Filename', ' Stage':'Stage'},inplace=True)\n",
        "df['Filename'] = df['Filename'].apply(lambda x: f\"{path}/{x}\")\n",
        "df"
      ]
    },
    {
      "cell_type": "code",
      "execution_count": 4,
      "metadata": {
        "id": "p7y8Z_CF9tmC"
      },
      "outputs": [],
      "source": [
        "#Definition of train and test sets\n",
        "train, test = train_test_split(df, test_size=0.2)"
      ]
    },
    {
      "cell_type": "code",
      "execution_count": 5,
      "metadata": {
        "id": "tXgzZytV9vwh"
      },
      "outputs": [],
      "source": [
        "#Parameters definition\n",
        "IMAGE_WIDTH=150\n",
        "IMAGE_HEIGHT=150\n",
        "IMAGE_SIZE=(IMAGE_WIDTH, IMAGE_HEIGHT)\n",
        "IMAGE_CHANNELS=3\n",
        "batch_size=64\n",
        "epochs=30"
      ]
    },
    {
      "cell_type": "code",
      "execution_count": 6,
      "metadata": {
        "colab": {
          "base_uri": "https://localhost:8080/"
        },
        "id": "7nIUUbpw97dK",
        "outputId": "95176e2c-ce13-4e01-809f-9a9d0f47afe1"
      },
      "outputs": [
        {
          "name": "stdout",
          "output_type": "stream",
          "text": [
            "Found 26918 validated image filenames.\n"
          ]
        }
      ],
      "source": [
        "#Image generators\n",
        "train_datagen = ImageDataGenerator(\n",
        "    rescale=1./255,\n",
        "    validation_split=0.2\n",
        ")\n",
        "\n",
        "train_generator = train_datagen.flow_from_dataframe(\n",
        "    train, \n",
        "    x_col='Filename',\n",
        "    y_col='Stage',\n",
        "    class_mode='raw',\n",
        "    target_size=IMAGE_SIZE,\n",
        "    batch_size=batch_size,\n",
        "    subset='training'\n",
        ")"
      ]
    },
    {
      "cell_type": "code",
      "execution_count": 7,
      "metadata": {
        "colab": {
          "base_uri": "https://localhost:8080/"
        },
        "id": "MjAar6_q9_aJ",
        "outputId": "0bd22191-ada9-4957-a074-4692327b41d5"
      },
      "outputs": [
        {
          "name": "stdout",
          "output_type": "stream",
          "text": [
            "Found 8412 validated image filenames.\n",
            "Found 6729 validated image filenames.\n"
          ]
        }
      ],
      "source": [
        "test_datagen = ImageDataGenerator(rescale=1./255)\n",
        "\n",
        "test_generator = test_datagen.flow_from_dataframe(\n",
        "    test,\n",
        "    x_col='Filename',\n",
        "    y_col='Stage',\n",
        "    target_size=IMAGE_SIZE,\n",
        "    class_mode='raw',\n",
        "    batch_size=batch_size\n",
        ")\n",
        "\n",
        "validation_generator = train_datagen.flow_from_dataframe(\n",
        "    train,\n",
        "    x_col='Filename',\n",
        "    y_col='Stage',\n",
        "    target_size=IMAGE_SIZE,\n",
        "    class_mode='raw',\n",
        "    batch_size=batch_size,\n",
        "    subset='validation'\n",
        ")"
      ]
    },
    {
      "cell_type": "code",
      "execution_count": 8,
      "metadata": {
        "id": "h6T6R62g-KkE"
      },
      "outputs": [],
      "source": [
        "#Definition of earlystop parameter\n",
        "earlystop = EarlyStopping(patience=4)"
      ]
    },
    {
      "cell_type": "code",
      "execution_count": 9,
      "metadata": {
        "id": "IBIYNmgXG6S7"
      },
      "outputs": [],
      "source": [
        "#Defining model\n",
        "from keras.activations import activation_layers\n",
        "model = Sequential()\n",
        "model.add(Conv2D(32, (3, 3), padding='same', input_shape=(150,150,3)))\n",
        "model.add(Conv2D(32, (3, 3)))\n",
        "model.add(Conv2D(32, (3, 3)))\n",
        "model.add(MaxPooling2D(pool_size=(2, 2)))\n",
        "model.add(Flatten())\n",
        "model.add(Dense(1,activation='linear'))\n"
      ]
    },
    {
      "cell_type": "code",
      "execution_count": 10,
      "metadata": {
        "id": "vrtUVtLjK2ir"
      },
      "outputs": [],
      "source": [
        "#Compiling model\n",
        "from sklearn.metrics import r2_score\n",
        "compiled=model.compile(loss=\"mse\", optimizer='adam',metrics=[r2_score],run_eagerly=True) "
      ]
    },
    {
      "cell_type": "code",
      "execution_count": 11,
      "metadata": {
        "colab": {
          "base_uri": "https://localhost:8080/"
        },
        "id": "mq8Ji3hwK8tJ",
        "outputId": "12a9af87-ef12-4697-d92e-bc567613cf6a"
      },
      "outputs": [
        {
          "name": "stdout",
          "output_type": "stream",
          "text": [
            "Epoch 1/30\n",
            "421/421 [==============================] - 221s 508ms/step - loss: 2.8807 - r2_score: -4.0155 - val_loss: 0.1033 - val_r2_score: 0.8369\n",
            "Epoch 2/30\n",
            "421/421 [==============================] - 125s 296ms/step - loss: 0.0690 - r2_score: 0.8907 - val_loss: 0.0448 - val_r2_score: 0.9275\n",
            "Epoch 3/30\n",
            "421/421 [==============================] - 124s 295ms/step - loss: 0.0402 - r2_score: 0.9349 - val_loss: 0.0321 - val_r2_score: 0.9455\n",
            "Epoch 4/30\n",
            "421/421 [==============================] - 125s 297ms/step - loss: 0.0332 - r2_score: 0.9456 - val_loss: 0.0254 - val_r2_score: 0.9570\n",
            "Epoch 5/30\n",
            "421/421 [==============================] - 123s 292ms/step - loss: 0.0277 - r2_score: 0.9549 - val_loss: 0.0276 - val_r2_score: 0.9521\n",
            "Epoch 6/30\n",
            "421/421 [==============================] - 122s 289ms/step - loss: 0.0232 - r2_score: 0.9617 - val_loss: 0.0204 - val_r2_score: 0.9655\n",
            "Epoch 7/30\n",
            "421/421 [==============================] - 122s 290ms/step - loss: 0.0209 - r2_score: 0.9653 - val_loss: 0.0261 - val_r2_score: 0.9557\n",
            "Epoch 8/30\n",
            "421/421 [==============================] - 123s 291ms/step - loss: 0.0188 - r2_score: 0.9695 - val_loss: 0.0164 - val_r2_score: 0.9722\n",
            "Epoch 9/30\n",
            "421/421 [==============================] - 122s 289ms/step - loss: 0.0168 - r2_score: 0.9725 - val_loss: 0.0206 - val_r2_score: 0.9647\n",
            "Epoch 10/30\n",
            "421/421 [==============================] - 123s 291ms/step - loss: 0.0165 - r2_score: 0.9729 - val_loss: 0.0140 - val_r2_score: 0.9760\n",
            "Epoch 11/30\n",
            "421/421 [==============================] - 123s 292ms/step - loss: 0.0143 - r2_score: 0.9765 - val_loss: 0.0139 - val_r2_score: 0.9766\n",
            "Epoch 12/30\n",
            "421/421 [==============================] - 122s 290ms/step - loss: 0.0137 - r2_score: 0.9779 - val_loss: 0.0176 - val_r2_score: 0.9695\n",
            "Epoch 13/30\n",
            "421/421 [==============================] - 122s 290ms/step - loss: 0.0123 - r2_score: 0.9797 - val_loss: 0.0162 - val_r2_score: 0.9728\n",
            "Epoch 14/30\n",
            "421/421 [==============================] - 123s 291ms/step - loss: 0.0122 - r2_score: 0.9797 - val_loss: 0.0133 - val_r2_score: 0.9775\n",
            "Epoch 15/30\n",
            "421/421 [==============================] - 122s 290ms/step - loss: 0.0118 - r2_score: 0.9807 - val_loss: 0.0142 - val_r2_score: 0.9756\n",
            "Epoch 16/30\n",
            "421/421 [==============================] - 122s 290ms/step - loss: 0.0112 - r2_score: 0.9818 - val_loss: 0.0140 - val_r2_score: 0.9766\n",
            "Epoch 17/30\n",
            "421/421 [==============================] - 122s 290ms/step - loss: 0.0113 - r2_score: 0.9813 - val_loss: 0.0187 - val_r2_score: 0.9684\n",
            "Epoch 18/30\n",
            "421/421 [==============================] - 122s 290ms/step - loss: 0.0117 - r2_score: 0.9806 - val_loss: 0.0142 - val_r2_score: 0.9760\n"
          ]
        }
      ],
      "source": [
        "#Training model\n",
        "history=model.fit(train_generator,validation_data=validation_generator, epochs=epochs,callbacks=[earlystop])"
      ]
    },
    {
      "cell_type": "code",
      "execution_count": 13,
      "metadata": {
        "id": "UqRnmGGPhD5i"
      },
      "outputs": [
        {
          "data": {
            "text/html": [
              "<div>\n",
              "<style scoped>\n",
              "    .dataframe tbody tr th:only-of-type {\n",
              "        vertical-align: middle;\n",
              "    }\n",
              "\n",
              "    .dataframe tbody tr th {\n",
              "        vertical-align: top;\n",
              "    }\n",
              "\n",
              "    .dataframe thead th {\n",
              "        text-align: right;\n",
              "    }\n",
              "</style>\n",
              "<table border=\"1\" class=\"dataframe\">\n",
              "  <thead>\n",
              "    <tr style=\"text-align: right;\">\n",
              "      <th></th>\n",
              "      <th>loss</th>\n",
              "      <th>r2_score</th>\n",
              "      <th>val_loss</th>\n",
              "      <th>val_r2_score</th>\n",
              "    </tr>\n",
              "  </thead>\n",
              "  <tbody>\n",
              "    <tr>\n",
              "      <th>0</th>\n",
              "      <td>2.880668</td>\n",
              "      <td>-4.015506</td>\n",
              "      <td>0.103280</td>\n",
              "      <td>0.836902</td>\n",
              "    </tr>\n",
              "    <tr>\n",
              "      <th>1</th>\n",
              "      <td>0.069037</td>\n",
              "      <td>0.890729</td>\n",
              "      <td>0.044772</td>\n",
              "      <td>0.927517</td>\n",
              "    </tr>\n",
              "    <tr>\n",
              "      <th>2</th>\n",
              "      <td>0.040186</td>\n",
              "      <td>0.934850</td>\n",
              "      <td>0.032059</td>\n",
              "      <td>0.945498</td>\n",
              "    </tr>\n",
              "    <tr>\n",
              "      <th>3</th>\n",
              "      <td>0.033245</td>\n",
              "      <td>0.945629</td>\n",
              "      <td>0.025402</td>\n",
              "      <td>0.957033</td>\n",
              "    </tr>\n",
              "    <tr>\n",
              "      <th>4</th>\n",
              "      <td>0.027733</td>\n",
              "      <td>0.954887</td>\n",
              "      <td>0.027640</td>\n",
              "      <td>0.952108</td>\n",
              "    </tr>\n",
              "    <tr>\n",
              "      <th>5</th>\n",
              "      <td>0.023186</td>\n",
              "      <td>0.961685</td>\n",
              "      <td>0.020412</td>\n",
              "      <td>0.965503</td>\n",
              "    </tr>\n",
              "    <tr>\n",
              "      <th>6</th>\n",
              "      <td>0.020890</td>\n",
              "      <td>0.965280</td>\n",
              "      <td>0.026103</td>\n",
              "      <td>0.955693</td>\n",
              "    </tr>\n",
              "    <tr>\n",
              "      <th>7</th>\n",
              "      <td>0.018774</td>\n",
              "      <td>0.969502</td>\n",
              "      <td>0.016408</td>\n",
              "      <td>0.972158</td>\n",
              "    </tr>\n",
              "    <tr>\n",
              "      <th>8</th>\n",
              "      <td>0.016758</td>\n",
              "      <td>0.972491</td>\n",
              "      <td>0.020578</td>\n",
              "      <td>0.964682</td>\n",
              "    </tr>\n",
              "    <tr>\n",
              "      <th>9</th>\n",
              "      <td>0.016470</td>\n",
              "      <td>0.972866</td>\n",
              "      <td>0.014007</td>\n",
              "      <td>0.976024</td>\n",
              "    </tr>\n",
              "    <tr>\n",
              "      <th>10</th>\n",
              "      <td>0.014258</td>\n",
              "      <td>0.976532</td>\n",
              "      <td>0.013856</td>\n",
              "      <td>0.976641</td>\n",
              "    </tr>\n",
              "    <tr>\n",
              "      <th>11</th>\n",
              "      <td>0.013682</td>\n",
              "      <td>0.977903</td>\n",
              "      <td>0.017617</td>\n",
              "      <td>0.969519</td>\n",
              "    </tr>\n",
              "    <tr>\n",
              "      <th>12</th>\n",
              "      <td>0.012306</td>\n",
              "      <td>0.979706</td>\n",
              "      <td>0.016158</td>\n",
              "      <td>0.972823</td>\n",
              "    </tr>\n",
              "    <tr>\n",
              "      <th>13</th>\n",
              "      <td>0.012183</td>\n",
              "      <td>0.979717</td>\n",
              "      <td>0.013280</td>\n",
              "      <td>0.977497</td>\n",
              "    </tr>\n",
              "    <tr>\n",
              "      <th>14</th>\n",
              "      <td>0.011776</td>\n",
              "      <td>0.980650</td>\n",
              "      <td>0.014243</td>\n",
              "      <td>0.975613</td>\n",
              "    </tr>\n",
              "    <tr>\n",
              "      <th>15</th>\n",
              "      <td>0.011211</td>\n",
              "      <td>0.981770</td>\n",
              "      <td>0.013994</td>\n",
              "      <td>0.976569</td>\n",
              "    </tr>\n",
              "    <tr>\n",
              "      <th>16</th>\n",
              "      <td>0.011339</td>\n",
              "      <td>0.981292</td>\n",
              "      <td>0.018747</td>\n",
              "      <td>0.968374</td>\n",
              "    </tr>\n",
              "    <tr>\n",
              "      <th>17</th>\n",
              "      <td>0.011727</td>\n",
              "      <td>0.980631</td>\n",
              "      <td>0.014171</td>\n",
              "      <td>0.975961</td>\n",
              "    </tr>\n",
              "  </tbody>\n",
              "</table>\n",
              "</div>"
            ],
            "text/plain": [
              "        loss  r2_score  val_loss  val_r2_score\n",
              "0   2.880668 -4.015506  0.103280      0.836902\n",
              "1   0.069037  0.890729  0.044772      0.927517\n",
              "2   0.040186  0.934850  0.032059      0.945498\n",
              "3   0.033245  0.945629  0.025402      0.957033\n",
              "4   0.027733  0.954887  0.027640      0.952108\n",
              "5   0.023186  0.961685  0.020412      0.965503\n",
              "6   0.020890  0.965280  0.026103      0.955693\n",
              "7   0.018774  0.969502  0.016408      0.972158\n",
              "8   0.016758  0.972491  0.020578      0.964682\n",
              "9   0.016470  0.972866  0.014007      0.976024\n",
              "10  0.014258  0.976532  0.013856      0.976641\n",
              "11  0.013682  0.977903  0.017617      0.969519\n",
              "12  0.012306  0.979706  0.016158      0.972823\n",
              "13  0.012183  0.979717  0.013280      0.977497\n",
              "14  0.011776  0.980650  0.014243      0.975613\n",
              "15  0.011211  0.981770  0.013994      0.976569\n",
              "16  0.011339  0.981292  0.018747      0.968374\n",
              "17  0.011727  0.980631  0.014171      0.975961"
            ]
          },
          "execution_count": 13,
          "metadata": {},
          "output_type": "execute_result"
        }
      ],
      "source": [
        "#Saving results\n",
        "result=history.history\n",
        "historydf=pd.DataFrame(result)\n",
        "historydf"
      ]
    },
    {
      "cell_type": "code",
      "execution_count": 14,
      "metadata": {
        "id": "0I06Iv2iLBG5"
      },
      "outputs": [
        {
          "name": "stdout",
          "output_type": "stream",
          "text": [
            "132/132 [==============================] - 54s 412ms/step - loss: 0.0142 - r2_score: 0.9775\n"
          ]
        }
      ],
      "source": [
        "#Evaluating model\n",
        "evaluation =model.evaluate(test_generator, batch_size=batch_size)"
      ]
    },
    {
      "cell_type": "code",
      "execution_count": 15,
      "metadata": {
        "id": "cGqT5urMEwnu"
      },
      "outputs": [
        {
          "data": {
            "image/png": "[encoded data removed]",
            "text/plain": [
              "<Figure size 1600x500 with 2 Axes>"
            ]
          },
          "metadata": {},
          "output_type": "display_data"
        }
      ],
      "source": [
        "#Ploting model performance\n",
        "fig, axes = plt.subplots(1, 2, figsize=(16, 5))\n",
        "sns.lineplot(ax=axes[0],data=historydf, x=historydf.index, y=\"loss\")\n",
        "sns.lineplot(ax=axes[0],data=historydf, x=historydf.index, y=\"val_loss\")\n",
        "sns.lineplot(ax=axes[1],data=historydf, x=historydf.index, y=\"r2_score\")\n",
        "sns.lineplot(ax=axes[1],data=historydf, x=historydf.index, y=\"val_r2_score\")\n",
        "\n",
        "plt.show()"
      ]
    },
    {
      "cell_type": "code",
      "execution_count": 17,
      "metadata": {
        "id": "yg4wP7KLSGk5"
      },
      "outputs": [],
      "source": [
        "#Saved model for webapp integration\n",
        "model.save('CNN')"
      ]
    }
  ],
  "metadata": {
    "accelerator": "GPU",
    "colab": {
      "provenance": []
    },
    "gpuClass": "standard",
    "kernelspec": {
      "display_name": "Python 3.9.0 ('tf_2.11')",
      "language": "python",
      "name": "python3"
    },
    "language_info": {
      "codemirror_mode": {
        "name": "ipython",
        "version": 3
      },
      "file_extension": ".py",
      "mimetype": "text/x-python",
      "name": "python",
      "nbconvert_exporter": "python",
      "pygments_lexer": "ipython3",
      "version": "3.9.0"
    },
    "vscode": {
      "interpreter": {
        "hash": "97118719e5255b4963fe010f8661a243525092fbb7e0a72f569bc618ccc8df4b"
      }
    }
  },
  "nbformat": 4,
  "nbformat_minor": 0
}
